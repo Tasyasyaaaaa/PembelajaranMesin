{
  "cells": [
    {
      "cell_type": "markdown",
      "metadata": {
        "id": "view-in-github",
        "colab_type": "text"
      },
      "source": [
        "<a href=\"https://colab.research.google.com/github/Tasyasyaaaaa/PembelajaranMesin/blob/main/Hilbert_bpjs.ipynb\" target=\"_parent\"><img src=\"https://colab.research.google.com/assets/colab-badge.svg\" alt=\"Open In Colab\"/></a>"
      ]
    },
    {
      "cell_type": "code",
      "execution_count": 1,
      "metadata": {
        "colab": {
          "base_uri": "https://localhost:8080/"
        },
        "id": "ZSMPl0vPGm6p",
        "outputId": "2eb71de9-4053-4bd4-ab96-62df9f611c11"
      },
      "outputs": [
        {
          "output_type": "stream",
          "name": "stdout",
          "text": [
            "Collecting PyPortfolioOpt\n",
            "  Downloading pyportfolioopt-1.5.6-py3-none-any.whl.metadata (22 kB)\n",
            "Requirement already satisfied: cvxpy>=1.1.19 in /usr/local/lib/python3.12/dist-packages (from PyPortfolioOpt) (1.6.7)\n",
            "Collecting ecos<3.0.0,>=2.0.14 (from PyPortfolioOpt)\n",
            "  Downloading ecos-2.0.14-cp312-cp312-manylinux_2_17_x86_64.manylinux2014_x86_64.whl.metadata (8.0 kB)\n",
            "Requirement already satisfied: numpy>=1.26.0 in /usr/local/lib/python3.12/dist-packages (from PyPortfolioOpt) (2.0.2)\n",
            "Requirement already satisfied: pandas>=0.19 in /usr/local/lib/python3.12/dist-packages (from PyPortfolioOpt) (2.2.2)\n",
            "Requirement already satisfied: plotly<6.0.0,>=5.0.0 in /usr/local/lib/python3.12/dist-packages (from PyPortfolioOpt) (5.24.1)\n",
            "Requirement already satisfied: scipy>=1.3 in /usr/local/lib/python3.12/dist-packages (from PyPortfolioOpt) (1.16.1)\n",
            "Requirement already satisfied: osqp>=0.6.2 in /usr/local/lib/python3.12/dist-packages (from cvxpy>=1.1.19->PyPortfolioOpt) (1.0.4)\n",
            "Requirement already satisfied: clarabel>=0.5.0 in /usr/local/lib/python3.12/dist-packages (from cvxpy>=1.1.19->PyPortfolioOpt) (0.11.1)\n",
            "Requirement already satisfied: scs>=3.2.4.post1 in /usr/local/lib/python3.12/dist-packages (from cvxpy>=1.1.19->PyPortfolioOpt) (3.2.8)\n",
            "Requirement already satisfied: python-dateutil>=2.8.2 in /usr/local/lib/python3.12/dist-packages (from pandas>=0.19->PyPortfolioOpt) (2.9.0.post0)\n",
            "Requirement already satisfied: pytz>=2020.1 in /usr/local/lib/python3.12/dist-packages (from pandas>=0.19->PyPortfolioOpt) (2025.2)\n",
            "Requirement already satisfied: tzdata>=2022.7 in /usr/local/lib/python3.12/dist-packages (from pandas>=0.19->PyPortfolioOpt) (2025.2)\n",
            "Requirement already satisfied: tenacity>=6.2.0 in /usr/local/lib/python3.12/dist-packages (from plotly<6.0.0,>=5.0.0->PyPortfolioOpt) (8.5.0)\n",
            "Requirement already satisfied: packaging in /usr/local/lib/python3.12/dist-packages (from plotly<6.0.0,>=5.0.0->PyPortfolioOpt) (25.0)\n",
            "Requirement already satisfied: cffi in /usr/local/lib/python3.12/dist-packages (from clarabel>=0.5.0->cvxpy>=1.1.19->PyPortfolioOpt) (1.17.1)\n",
            "Requirement already satisfied: jinja2 in /usr/local/lib/python3.12/dist-packages (from osqp>=0.6.2->cvxpy>=1.1.19->PyPortfolioOpt) (3.1.6)\n",
            "Requirement already satisfied: setuptools in /usr/local/lib/python3.12/dist-packages (from osqp>=0.6.2->cvxpy>=1.1.19->PyPortfolioOpt) (75.2.0)\n",
            "Requirement already satisfied: joblib in /usr/local/lib/python3.12/dist-packages (from osqp>=0.6.2->cvxpy>=1.1.19->PyPortfolioOpt) (1.5.1)\n",
            "Requirement already satisfied: six>=1.5 in /usr/local/lib/python3.12/dist-packages (from python-dateutil>=2.8.2->pandas>=0.19->PyPortfolioOpt) (1.17.0)\n",
            "Requirement already satisfied: pycparser in /usr/local/lib/python3.12/dist-packages (from cffi->clarabel>=0.5.0->cvxpy>=1.1.19->PyPortfolioOpt) (2.22)\n",
            "Requirement already satisfied: MarkupSafe>=2.0 in /usr/local/lib/python3.12/dist-packages (from jinja2->osqp>=0.6.2->cvxpy>=1.1.19->PyPortfolioOpt) (3.0.2)\n",
            "Downloading pyportfolioopt-1.5.6-py3-none-any.whl (62 kB)\n",
            "\u001b[2K   \u001b[90m━━━━━━━━━━━━━━━━━━━━━━━━━━━━━━━━━━━━━━━━\u001b[0m \u001b[32m62.7/62.7 kB\u001b[0m \u001b[31m2.7 MB/s\u001b[0m eta \u001b[36m0:00:00\u001b[0m\n",
            "\u001b[?25hDownloading ecos-2.0.14-cp312-cp312-manylinux_2_17_x86_64.manylinux2014_x86_64.whl (222 kB)\n",
            "\u001b[2K   \u001b[90m━━━━━━━━━━━━━━━━━━━━━━━━━━━━━━━━━━━━━━━━\u001b[0m \u001b[32m222.1/222.1 kB\u001b[0m \u001b[31m9.4 MB/s\u001b[0m eta \u001b[36m0:00:00\u001b[0m\n",
            "\u001b[?25hInstalling collected packages: ecos, PyPortfolioOpt\n",
            "Successfully installed PyPortfolioOpt-1.5.6 ecos-2.0.14\n",
            "Collecting QuantStats\n",
            "  Downloading quantstats-0.0.76-py2.py3-none-any.whl.metadata (9.1 kB)\n",
            "Requirement already satisfied: pandas<3.0.0,>=1.5.0 in /usr/local/lib/python3.12/dist-packages (from QuantStats) (2.2.2)\n",
            "Requirement already satisfied: numpy>=1.21.0 in /usr/local/lib/python3.12/dist-packages (from QuantStats) (2.0.2)\n",
            "Requirement already satisfied: seaborn>=0.11.0 in /usr/local/lib/python3.12/dist-packages (from QuantStats) (0.13.2)\n",
            "Requirement already satisfied: matplotlib>=3.3.0 in /usr/local/lib/python3.12/dist-packages (from QuantStats) (3.10.0)\n",
            "Requirement already satisfied: scipy>=1.7.0 in /usr/local/lib/python3.12/dist-packages (from QuantStats) (1.16.1)\n",
            "Requirement already satisfied: tabulate>=0.8.9 in /usr/local/lib/python3.12/dist-packages (from QuantStats) (0.9.0)\n",
            "Requirement already satisfied: yfinance>=0.2.65 in /usr/local/lib/python3.12/dist-packages (from QuantStats) (0.2.65)\n",
            "Requirement already satisfied: python-dateutil>=2.8.0 in /usr/local/lib/python3.12/dist-packages (from QuantStats) (2.9.0.post0)\n",
            "Requirement already satisfied: packaging>=20.0 in /usr/local/lib/python3.12/dist-packages (from QuantStats) (25.0)\n",
            "Requirement already satisfied: contourpy>=1.0.1 in /usr/local/lib/python3.12/dist-packages (from matplotlib>=3.3.0->QuantStats) (1.3.3)\n",
            "Requirement already satisfied: cycler>=0.10 in /usr/local/lib/python3.12/dist-packages (from matplotlib>=3.3.0->QuantStats) (0.12.1)\n",
            "Requirement already satisfied: fonttools>=4.22.0 in /usr/local/lib/python3.12/dist-packages (from matplotlib>=3.3.0->QuantStats) (4.59.1)\n",
            "Requirement already satisfied: kiwisolver>=1.3.1 in /usr/local/lib/python3.12/dist-packages (from matplotlib>=3.3.0->QuantStats) (1.4.9)\n",
            "Requirement already satisfied: pillow>=8 in /usr/local/lib/python3.12/dist-packages (from matplotlib>=3.3.0->QuantStats) (11.3.0)\n",
            "Requirement already satisfied: pyparsing>=2.3.1 in /usr/local/lib/python3.12/dist-packages (from matplotlib>=3.3.0->QuantStats) (3.2.3)\n",
            "Requirement already satisfied: pytz>=2020.1 in /usr/local/lib/python3.12/dist-packages (from pandas<3.0.0,>=1.5.0->QuantStats) (2025.2)\n",
            "Requirement already satisfied: tzdata>=2022.7 in /usr/local/lib/python3.12/dist-packages (from pandas<3.0.0,>=1.5.0->QuantStats) (2025.2)\n",
            "Requirement already satisfied: six>=1.5 in /usr/local/lib/python3.12/dist-packages (from python-dateutil>=2.8.0->QuantStats) (1.17.0)\n",
            "Requirement already satisfied: requests>=2.31 in /usr/local/lib/python3.12/dist-packages (from yfinance>=0.2.65->QuantStats) (2.32.4)\n",
            "Requirement already satisfied: multitasking>=0.0.7 in /usr/local/lib/python3.12/dist-packages (from yfinance>=0.2.65->QuantStats) (0.0.12)\n",
            "Requirement already satisfied: platformdirs>=2.0.0 in /usr/local/lib/python3.12/dist-packages (from yfinance>=0.2.65->QuantStats) (4.3.8)\n",
            "Requirement already satisfied: frozendict>=2.3.4 in /usr/local/lib/python3.12/dist-packages (from yfinance>=0.2.65->QuantStats) (2.4.6)\n",
            "Requirement already satisfied: peewee>=3.16.2 in /usr/local/lib/python3.12/dist-packages (from yfinance>=0.2.65->QuantStats) (3.18.2)\n",
            "Requirement already satisfied: beautifulsoup4>=4.11.1 in /usr/local/lib/python3.12/dist-packages (from yfinance>=0.2.65->QuantStats) (4.13.5)\n",
            "Requirement already satisfied: curl_cffi>=0.7 in /usr/local/lib/python3.12/dist-packages (from yfinance>=0.2.65->QuantStats) (0.13.0)\n",
            "Requirement already satisfied: protobuf>=3.19.0 in /usr/local/lib/python3.12/dist-packages (from yfinance>=0.2.65->QuantStats) (5.29.5)\n",
            "Requirement already satisfied: websockets>=13.0 in /usr/local/lib/python3.12/dist-packages (from yfinance>=0.2.65->QuantStats) (15.0.1)\n",
            "Requirement already satisfied: soupsieve>1.2 in /usr/local/lib/python3.12/dist-packages (from beautifulsoup4>=4.11.1->yfinance>=0.2.65->QuantStats) (2.7)\n",
            "Requirement already satisfied: typing-extensions>=4.0.0 in /usr/local/lib/python3.12/dist-packages (from beautifulsoup4>=4.11.1->yfinance>=0.2.65->QuantStats) (4.15.0)\n",
            "Requirement already satisfied: cffi>=1.12.0 in /usr/local/lib/python3.12/dist-packages (from curl_cffi>=0.7->yfinance>=0.2.65->QuantStats) (1.17.1)\n",
            "Requirement already satisfied: certifi>=2024.2.2 in /usr/local/lib/python3.12/dist-packages (from curl_cffi>=0.7->yfinance>=0.2.65->QuantStats) (2025.8.3)\n",
            "Requirement already satisfied: charset_normalizer<4,>=2 in /usr/local/lib/python3.12/dist-packages (from requests>=2.31->yfinance>=0.2.65->QuantStats) (3.4.3)\n",
            "Requirement already satisfied: idna<4,>=2.5 in /usr/local/lib/python3.12/dist-packages (from requests>=2.31->yfinance>=0.2.65->QuantStats) (3.10)\n",
            "Requirement already satisfied: urllib3<3,>=1.21.1 in /usr/local/lib/python3.12/dist-packages (from requests>=2.31->yfinance>=0.2.65->QuantStats) (2.5.0)\n",
            "Requirement already satisfied: pycparser in /usr/local/lib/python3.12/dist-packages (from cffi>=1.12.0->curl_cffi>=0.7->yfinance>=0.2.65->QuantStats) (2.22)\n",
            "Downloading quantstats-0.0.76-py2.py3-none-any.whl (81 kB)\n",
            "\u001b[2K   \u001b[90m━━━━━━━━━━━━━━━━━━━━━━━━━━━━━━━━━━━━━━━━\u001b[0m \u001b[32m81.3/81.3 kB\u001b[0m \u001b[31m2.2 MB/s\u001b[0m eta \u001b[36m0:00:00\u001b[0m\n",
            "\u001b[?25hInstalling collected packages: QuantStats\n",
            "Successfully installed QuantStats-0.0.76\n"
          ]
        }
      ],
      "source": [
        "#memanggil paket\n",
        "import math as mt\n",
        "import numpy as np\n",
        "import pandas as pd\n",
        "\n",
        "!pip install PyPortfolioOpt\n",
        "!pip install QuantStats"
      ]
    },
    {
      "cell_type": "code",
      "execution_count": 15,
      "metadata": {
        "colab": {
          "base_uri": "https://localhost:8080/"
        },
        "id": "DMsknxW8d1OZ",
        "outputId": "54e21377-62ce-449a-cacf-9499394874db"
      },
      "outputs": [
        {
          "output_type": "stream",
          "name": "stdout",
          "text": [
            "     Saham  Obligasi  Reksadana\n",
            "0  -0.0820    0.0364    -0.0291\n",
            "1  -0.1676    0.1481    -0.1567\n",
            "2   0.0391   -0.0019    -0.1776\n",
            "3   0.0079    0.0699    -0.0166\n",
            "4   0.0319    0.0170     0.1385\n",
            "5   0.0498   -0.0541     0.0950\n",
            "6   0.0173    0.0057     0.0515\n",
            "7  -0.0703    0.0096    -0.0670\n",
            "8   0.0530   -0.0463     0.0414\n",
            "9   0.0944   -0.0637     0.2069\n",
            "10  0.0653   -0.0398     0.0813\n",
            "11 -0.0195    0.0530    -0.0569\n",
            "12  0.0647    0.0545     0.0151\n",
            "13 -0.0411    0.0327    -0.0552\n",
            "14  0.0017   -0.0496     0.0135\n",
            "15 -0.0080   -0.0048    -0.0022\n",
            "16  0.0064    0.0287    -0.0289\n",
            "17  0.0141   -0.0487     0.0069\n",
            "18  0.0132    0.0365    -0.0386\n",
            "19  0.0222    0.0454     0.0709\n",
            "20  0.0484   -0.0290     0.0552\n",
            "21 -0.0087    0.0159    -0.0502\n",
            "22  0.0073    0.0161     0.0132\n",
            "23  0.0075    0.0127    -0.0043\n",
            "24  0.0388    0.0095     0.0437\n",
            "25  0.0266    0.0367     0.0669\n",
            "26  0.0223    0.0369     0.0569\n",
            "27 -0.0111    0.0070     0.0557\n",
            "28 -0.0332    0.0287    -0.0773\n",
            "29  0.0057   -0.0072     0.2133\n",
            "30  0.0327   -0.0111    -0.1020\n",
            "31 -0.0192    0.0370     0.0140\n",
            "32  0.0083    0.0218     0.0155\n",
            "33 -0.0025   -0.0785     0.4533\n",
            "34 -0.0326   -0.0035    -0.2126\n",
            "35 -0.0016   -0.0316    -0.2285\n",
            "36  0.0006    0.0267     0.1423\n",
            "37 -0.0055   -0.0102    -0.1128\n",
            "38  0.0162   -0.0409     0.0323\n",
            "39 -0.0408   -0.0220    -0.0662\n",
            "40  0.0043   -0.0211     0.0531\n",
            "41  0.0405    0.0018     0.0579\n",
            "42  0.0032    0.0180    -0.0124\n",
            "43 -0.0019    0.0829     0.0429\n",
            "44 -0.0270    0.0234    -0.0858\n",
            "45  0.0487    0.0645    -0.0619\n",
            "46  0.0271   -0.0203    -0.0040\n",
            "47 -0.0089    0.0159    -0.0100\n",
            "48  0.0150    0.0032     0.0243\n",
            "49 -0.0037    0.0130     0.0436\n",
            "50 -0.0075    0.0861    -0.0114\n",
            "51 -0.0364   -0.0465    -0.0077\n",
            "52  0.0133    0.0179    -0.0039\n",
            "53  0.0272   -0.0234     0.0641\n",
            "54  0.0572    0.0383     0.0456\n",
            "55 -0.0186   -0.0248     0.0192\n",
            "56  0.0061    0.0489    -0.0086\n",
            "57 -0.0607    0.0140    -0.0881\n",
            "58 -0.0048    0.0182     0.0341\n"
          ]
        }
      ],
      "source": [
        "# Baca data\n",
        "data = pd.read_csv(\"RE2.csv\")\n",
        "\n",
        "print(data)\n"
      ]
    },
    {
      "cell_type": "code",
      "execution_count": 16,
      "metadata": {
        "colab": {
          "base_uri": "https://localhost:8080/"
        },
        "id": "tNuAdCooJUz8",
        "outputId": "fbd964ba-e207-4a87-c3c6-ffcb38898952"
      },
      "outputs": [
        {
          "output_type": "stream",
          "name": "stdout",
          "text": [
            "Rata-rata setiap kolom:\n",
            "Saham        0.003810\n",
            "Obligasi     0.009383\n",
            "Reksadana    0.008332\n",
            "dtype: float64\n",
            "mean [0.00381017 0.00938305 0.0083322 ]\n"
          ]
        }
      ],
      "source": [
        "#rata-rata\n",
        "#menghitung rata-rata setiap kolom\n",
        "rata_rata_kolom = data.mean()\n",
        "\n",
        "print(\"Rata-rata setiap kolom:\")\n",
        "print(rata_rata_kolom)\n",
        "meanr=np.array(rata_rata_kolom)\n",
        "print(\"mean\", meanr)"
      ]
    },
    {
      "cell_type": "code",
      "execution_count": 17,
      "metadata": {
        "id": "2MppILLlJZLV"
      },
      "outputs": [],
      "source": [
        "#Pendefinisian data\n",
        "x1=data[\"Saham\"]\n",
        "x2=data[\"Obligasi\"]\n",
        "x3=data[\"Reksadana\"]\n",
        "i=1j\n",
        "N=len(data)\n"
      ]
    },
    {
      "cell_type": "code",
      "execution_count": 18,
      "metadata": {
        "colab": {
          "base_uri": "https://localhost:8080/"
        },
        "id": "EkPyCBkPK_vt",
        "outputId": "168c9adc-9005-4c70-9819-c5e2f206f10e"
      },
      "outputs": [
        {
          "output_type": "stream",
          "name": "stdout",
          "text": [
            "[np.complex128(1+0j), np.complex128(0.9943348002101371+0.1062934856473654j), np.complex128(0.9774033898178667+0.21138262362962432j), np.complex128(0.9493976084683813+0.3140767120219488j), np.complex128(0.9106347728549132+0.41321218576837815j), np.complex128(0.8615540813938061+0.5076658003388399j), np.complex128(0.8027116379309637+0.5963673585385014j), np.complex128(0.7347741508630673+0.6783118362696161j), np.complex128(0.6585113790650386+0.7525707698561385j), np.complex128(0.5747874102144069+0.818302775908169j), np.complex128(0.4845508703326502+0.8747630845319613j), np.complex128(0.38882417547332077+0.921311977870413j), np.complex128(0.28869194733962095+0.9574220383620055j), np.complex128(0.1852887240871143+0.982684124592521j), np.complex128(0.0797861055530831+0.9968120070307501j), np.complex128(-0.026620521437774693+0.9996456111234526j), np.complex128(-0.13272552728372186+0.9911528310040072j), np.complex128(-0.23732669987111488+0.97142989326471j), np.complex128(-0.3392388661180303+0.9407002666710332j), np.complex128(-0.43730732045885534+0.8993121301712192j), np.complex128(-0.5304209081197424+0.847734427889671j), np.complex128(-0.6175246149461918+0.7865515558026426j), np.complex128(-0.6976315211349846+0.7164567402983153j), np.complex128(-0.7698339834299064+0.6382441836448199j), np.complex128(-0.8333139190825151+0.5528000653611933j), np.complex128(-0.8873520750565714+0.4610925014493262j), np.complex128(-0.9313361774523384+0.36416057525282214j), np.complex128(-0.9647678688145159+0.26310256422752126j), np.complex128(-0.9872683547213446+0.1590634960190721j), np.complex128(-0.9985826956767619+0.053222174842178754j), np.complex128(-0.9985826956767619-0.053222174842178505j), np.complex128(-0.9872683547213446-0.1590634960190723j), np.complex128(-0.964767868814516-0.26310256422752104j), np.complex128(-0.9313361774523385-0.3641605752528219j), np.complex128(-0.8873520750565715-0.46109250144932595j), np.complex128(-0.8333139190825152-0.5528000653611931j), np.complex128(-0.7698339834299063-0.63824418364482j), np.complex128(-0.6976315211349847-0.7164567402983151j), np.complex128(-0.617524614946192-0.7865515558026425j), np.complex128(-0.5304209081197426-0.8477344278896709j), np.complex128(-0.43730732045885556-0.8993121301712191j), np.complex128(-0.3392388661180305-0.9407002666710332j), np.complex128(-0.2373266998711151-0.9714298932647099j), np.complex128(-0.1327255272837223-0.9911528310040071j), np.complex128(-0.02662052143777516-0.9996456111234525j), np.complex128(0.07978610555308265-0.9968120070307502j), np.complex128(0.18528872408711472-0.9826841245925209j), np.complex128(0.2886919473396205-0.9574220383620057j), np.complex128(0.38882417547332093-0.9213119778704129j), np.complex128(0.4845508703326504-0.8747630845319612j), np.complex128(0.5747874102144063-0.8183027759081695j), np.complex128(0.6585113790650388-0.7525707698561384j), np.complex128(0.7347741508630673-0.678311836269616j), np.complex128(0.8027116379309637-0.5963673585385014j), np.complex128(0.8615540813938061-0.50766580033884j), np.complex128(0.9106347728549131-0.4132121857683782j), np.complex128(0.9493976084683813-0.3140767120219489j), np.complex128(0.9774033898178666-0.21138262362962446j), np.complex128(0.9943348002101371-0.1062934856473656j)]\n",
            "[0     0.052350-0.242417j\n",
            "1    -0.033250-0.242417j\n",
            "2     0.173450-0.242417j\n",
            "3     0.142250-0.242417j\n",
            "4     0.166250-0.242417j\n",
            "5     0.184150-0.242417j\n",
            "6     0.151650-0.242417j\n",
            "7     0.064050-0.242417j\n",
            "8     0.187350-0.242417j\n",
            "9     0.228750-0.242417j\n",
            "10    0.199650-0.242417j\n",
            "11    0.114850-0.242417j\n",
            "12    0.199050-0.242417j\n",
            "13    0.093250-0.242417j\n",
            "14    0.136050-0.242417j\n",
            "15    0.126350-0.242417j\n",
            "16    0.140750-0.242417j\n",
            "17    0.148450-0.242417j\n",
            "18    0.147550-0.242417j\n",
            "19    0.156550-0.242417j\n",
            "20    0.182750-0.242417j\n",
            "21    0.125650-0.242417j\n",
            "22    0.141650-0.242417j\n",
            "23    0.141850-0.242417j\n",
            "24    0.173150-0.242417j\n",
            "25    0.160950-0.242417j\n",
            "26    0.156650-0.242417j\n",
            "27    0.123250-0.242417j\n",
            "28    0.101150-0.242417j\n",
            "29    0.140050-0.242417j\n",
            "30    0.167050-0.242417j\n",
            "31    0.115150-0.242417j\n",
            "32    0.142650-0.242417j\n",
            "33    0.131850-0.242417j\n",
            "34    0.101750-0.242417j\n",
            "35    0.132750-0.242417j\n",
            "36    0.134950-0.242417j\n",
            "37    0.128850-0.242417j\n",
            "38    0.150550-0.242417j\n",
            "39    0.093550-0.242417j\n",
            "40    0.138650-0.242417j\n",
            "41    0.174850-0.242417j\n",
            "42    0.137550-0.242417j\n",
            "43    0.132450-0.242417j\n",
            "44    0.107350-0.242417j\n",
            "45    0.183050-0.242417j\n",
            "46    0.161450-0.242417j\n",
            "47    0.125450-0.242417j\n",
            "48    0.149350-0.242417j\n",
            "49    0.130650-0.242417j\n",
            "50    0.126850-0.242417j\n",
            "51    0.097950-0.242417j\n",
            "52    0.147650-0.242417j\n",
            "53    0.161550-0.242417j\n",
            "54    0.191550-0.242417j\n",
            "55    0.115750-0.242417j\n",
            "56    0.140450-0.242417j\n",
            "57    0.073650-0.242417j\n",
            "58    0.129550-0.242417j\n",
            "Name: Saham, dtype: complex128, 0    -0.189424+0.075640j\n",
            "1    -0.077724+0.075640j\n",
            "2    -0.227724+0.075640j\n",
            "3    -0.155924+0.075640j\n",
            "4    -0.208824+0.075640j\n",
            "5    -0.279924+0.075640j\n",
            "6    -0.220124+0.075640j\n",
            "7    -0.216224+0.075640j\n",
            "8    -0.272124+0.075640j\n",
            "9    -0.289524+0.075640j\n",
            "10   -0.265624+0.075640j\n",
            "11   -0.172824+0.075640j\n",
            "12   -0.171324+0.075640j\n",
            "13   -0.193124+0.075640j\n",
            "14   -0.275424+0.075640j\n",
            "15   -0.230624+0.075640j\n",
            "16   -0.197124+0.075640j\n",
            "17   -0.274524+0.075640j\n",
            "18   -0.189324+0.075640j\n",
            "19   -0.180424+0.075640j\n",
            "20   -0.254824+0.075640j\n",
            "21   -0.209924+0.075640j\n",
            "22   -0.209724+0.075640j\n",
            "23   -0.213124+0.075640j\n",
            "24   -0.216324+0.075640j\n",
            "25   -0.189124+0.075640j\n",
            "26   -0.188924+0.075640j\n",
            "27   -0.218824+0.075640j\n",
            "28   -0.197124+0.075640j\n",
            "29   -0.233024+0.075640j\n",
            "30   -0.236924+0.075640j\n",
            "31   -0.188824+0.075640j\n",
            "32   -0.204024+0.075640j\n",
            "33   -0.304324+0.075640j\n",
            "34   -0.229324+0.075640j\n",
            "35   -0.257424+0.075640j\n",
            "36   -0.199124+0.075640j\n",
            "37   -0.236024+0.075640j\n",
            "38   -0.266724+0.075640j\n",
            "39   -0.247824+0.075640j\n",
            "40   -0.246924+0.075640j\n",
            "41   -0.224024+0.075640j\n",
            "42   -0.207824+0.075640j\n",
            "43   -0.142924+0.075640j\n",
            "44   -0.202424+0.075640j\n",
            "45   -0.161324+0.075640j\n",
            "46   -0.246124+0.075640j\n",
            "47   -0.209924+0.075640j\n",
            "48   -0.222624+0.075640j\n",
            "49   -0.212824+0.075640j\n",
            "50   -0.139724+0.075640j\n",
            "51   -0.272324+0.075640j\n",
            "52   -0.207924+0.075640j\n",
            "53   -0.249224+0.075640j\n",
            "54   -0.187524+0.075640j\n",
            "55   -0.250624+0.075640j\n",
            "56   -0.176924+0.075640j\n",
            "57   -0.211824+0.075640j\n",
            "58   -0.207624+0.075640j\n",
            "Name: Obligasi, dtype: complex128, 0     0.319110-0.343925j\n",
            "1     0.191510-0.343925j\n",
            "2     0.170610-0.343925j\n",
            "3     0.331610-0.343925j\n",
            "4     0.486710-0.343925j\n",
            "5     0.443210-0.343925j\n",
            "6     0.399710-0.343925j\n",
            "7     0.281210-0.343925j\n",
            "8     0.389610-0.343925j\n",
            "9     0.555110-0.343925j\n",
            "10    0.429510-0.343925j\n",
            "11    0.291310-0.343925j\n",
            "12    0.363310-0.343925j\n",
            "13    0.293010-0.343925j\n",
            "14    0.361710-0.343925j\n",
            "15    0.346010-0.343925j\n",
            "16    0.319310-0.343925j\n",
            "17    0.355110-0.343925j\n",
            "18    0.309610-0.343925j\n",
            "19    0.419110-0.343925j\n",
            "20    0.403410-0.343925j\n",
            "21    0.298010-0.343925j\n",
            "22    0.361410-0.343925j\n",
            "23    0.343910-0.343925j\n",
            "24    0.391910-0.343925j\n",
            "25    0.415110-0.343925j\n",
            "26    0.405110-0.343925j\n",
            "27    0.403910-0.343925j\n",
            "28    0.270910-0.343925j\n",
            "29    0.561510-0.343925j\n",
            "30    0.246210-0.343925j\n",
            "31    0.362210-0.343925j\n",
            "32    0.363710-0.343925j\n",
            "33    0.801510-0.343925j\n",
            "34    0.135610-0.343925j\n",
            "35    0.119710-0.343925j\n",
            "36    0.490510-0.343925j\n",
            "37    0.235410-0.343925j\n",
            "38    0.380510-0.343925j\n",
            "39    0.282010-0.343925j\n",
            "40    0.401310-0.343925j\n",
            "41    0.406110-0.343925j\n",
            "42    0.335810-0.343925j\n",
            "43    0.391110-0.343925j\n",
            "44    0.262410-0.343925j\n",
            "45    0.286310-0.343925j\n",
            "46    0.344210-0.343925j\n",
            "47    0.338210-0.343925j\n",
            "48    0.372510-0.343925j\n",
            "49    0.391810-0.343925j\n",
            "50    0.336810-0.343925j\n",
            "51    0.340510-0.343925j\n",
            "52    0.344310-0.343925j\n",
            "53    0.412310-0.343925j\n",
            "54    0.393810-0.343925j\n",
            "55    0.367410-0.343925j\n",
            "56    0.339610-0.343925j\n",
            "57    0.260110-0.343925j\n",
            "58    0.382310-0.343925j\n",
            "Name: Reksadana, dtype: complex128]\n"
          ]
        }
      ],
      "source": [
        "#menghitung transformasi hilbert (bilangan euler kompleks)\n",
        "exp = [np.cos(2*np.pi*(k/N)) + 1j*np.sin(2*np.pi*(k/N)) for k in range(N)]\n",
        "print(exp)\n",
        "\n",
        "sgn1=-i*np.sign(1-N/2)\n",
        "rk1=x1*exp\n",
        "sig1=sum(rk1)\n",
        "hdr1=sgn1*sig1\n",
        "z1t=x1+i*hdr1\n",
        "\n",
        "sgn2=-i*np.sign(2-N/2)\n",
        "rk2=x2*exp\n",
        "sig2=sum(rk2)\n",
        "hdr2=sgn2*sig2\n",
        "z2t=x2+i*hdr2\n",
        "\n",
        "sgn3=-i*np.sign(3-N/2)\n",
        "rk3=x3*exp\n",
        "sig3=sum(rk3)\n",
        "hdr3=sgn3*sig3\n",
        "z3t=x3+i*hdr3\n",
        "\n",
        "zt = [z1t, z2t, z3t]\n",
        "print(zt)"
      ]
    },
    {
      "cell_type": "code",
      "execution_count": 19,
      "metadata": {
        "id": "VmoTsOgiLGKS"
      },
      "outputs": [],
      "source": [
        "# membentuk matriks diagonal E[z1t-E(z1t)]*[(z1t-E(z1t))*]\n",
        "e1=sum(z1t)/N\n",
        "ze1=z1t-e1\n",
        "z1tk=np.conj(z1t)\n",
        "ze1k=np.conj(ze1)\n",
        "z1tot=ze1*ze1k\n",
        "ez1t=sum(z1tot)/N\n",
        "z1=complex(round(ez1t.real,18),round(ez1t.imag,18))\n",
        "\n",
        "e2=sum(z2t)/N\n",
        "ze2=z2t-e2\n",
        "z2tk=np.conj(z2t)\n",
        "ze2k=np.conj(ze2)\n",
        "z2tot=ze2*ze2k\n",
        "ez2t=sum(z2tot)/N\n",
        "z2=complex(round(ez2t.real,18),round(ez2t.imag,18))\n",
        "\n",
        "e3=sum(z3t)/N\n",
        "ze3=z3t-e3\n",
        "z3tk=np.conj(z3t)\n",
        "ze3k=np.conj(ze3)\n",
        "z3tot=ze3*ze3k\n",
        "ez3t=sum(z3tot)/N\n",
        "z3=complex(round(ez3t.real,18),round(ez3t.imag,18))\n",
        "\n",
        "\n",
        "#membentuk matriks non diagonal\n",
        "z4tot=ze1*ze2\n",
        "ez4t=sum(z4tot)/N\n",
        "z4=complex(round(ez4t.real,18),round(ez4t.imag,18))\n",
        "\n",
        "z7tot=ze2*ze1\n",
        "ez7t=sum(z7tot)/N\n",
        "z7=complex(round(ez7t.real,18),round(ez7t.imag,18))\n",
        "\n",
        "z5tot=ze1*ze3\n",
        "ez5t=sum(z5tot)/N\n",
        "z5=complex(round(ez5t.real,18),round(ez5t.imag,18))\n",
        "\n",
        "z8tot=ze3*ze1\n",
        "ez8t=sum(z8tot)/N\n",
        "z8=complex(round(ez8t.real,18),round(ez8t.imag,18))\n",
        "\n",
        "\n",
        "z6tot=ze2*ze3\n",
        "ez6t=sum(z6tot)/N\n",
        "z6=complex(round(ez6t.real,18),round(ez6t.imag,18))\n",
        "\n",
        "z9tot=ze3*ze2\n",
        "ez9t=sum(z9tot)/N\n",
        "z9=complex(round(ez9t.real,18),round(ez9t.imag,18))\n",
        "\n",
        "\n"
      ]
    },
    {
      "cell_type": "code",
      "execution_count": 20,
      "metadata": {
        "colab": {
          "base_uri": "https://localhost:8080/"
        },
        "id": "N6JBxmzkLTsg",
        "outputId": "18855be9-f3d6-42ef-d658-c77882c2222d"
      },
      "outputs": [
        {
          "output_type": "stream",
          "name": "stdout",
          "text": [
            "matriks kovarians [[ 0.00159355+0.j -0.00063116+0.j  0.001626  -0.j]\n",
            " [-0.00063116+0.j  0.00162699-0.j -0.00138026+0.j]\n",
            " [ 0.001626  -0.j -0.00138026+0.j  0.01039859+0.j]]\n",
            "invers matriks kovarianss [[819.79540898+0.j 235.83067173+0.j -96.88621045+0.j]\n",
            " [235.83067173-0.j 760.46573923+0.j  64.06437887+0.j]\n",
            " [-96.88621045-0.j  64.06437887+0.j 119.82030469+0.j]]\n"
          ]
        }
      ],
      "source": [
        "#matriks varians-kovarians dan menghitung invers\n",
        "matrix=np.matrix([[z1,z4,z5],[z7,z2,z6],[z8,z9,z3]])\n",
        "invers=np.linalg.inv(matrix)\n",
        "print(\"matriks kovarians\", matrix)\n",
        "print(\"invers matriks kovarianss\", invers)"
      ]
    },
    {
      "cell_type": "code",
      "execution_count": 21,
      "metadata": {
        "id": "-ecrkUaULUot"
      },
      "outputs": [],
      "source": [
        "#menghitung bobot mean-variance portfolio\n",
        "#mengatur return dalam portofolio\n",
        "exreturns = meanr"
      ]
    },
    {
      "cell_type": "code",
      "execution_count": 22,
      "metadata": {
        "id": "7vIWXyKiLX4s"
      },
      "outputs": [],
      "source": [
        "#mengatur matriks covarians antar return aset dalam portfolio\n",
        "cov_matrix = matrix"
      ]
    },
    {
      "cell_type": "code",
      "execution_count": 23,
      "metadata": {
        "id": "dcVA98MYLapk"
      },
      "outputs": [],
      "source": [
        "# menghitung invers dari matriks kovarians\n",
        "inv_cov_matrix = np.linalg.inv(cov_matrix)"
      ]
    },
    {
      "cell_type": "code",
      "execution_count": 29,
      "metadata": {
        "id": "RMPzLXOf6OYC"
      },
      "outputs": [],
      "source": [
        "#vektor e\n",
        "e=np.array([1,1,1])"
      ]
    },
    {
      "cell_type": "code",
      "execution_count": 30,
      "metadata": {
        "id": "T2nGcwYoIxnX"
      },
      "outputs": [],
      "source": [
        "#iniliasasi list untuk menyimpan bobot, expected return, standar deviasi, dan rasio\n",
        "bobot_list = []\n",
        "erpc_list = []\n",
        "sdpc_list = []\n",
        "rc_list = []\n"
      ]
    },
    {
      "cell_type": "code",
      "execution_count": 31,
      "metadata": {
        "id": "nty75sqiJGAF"
      },
      "outputs": [],
      "source": [
        "#inialisasi vaiabel unuk menyimpan erpc dan sdpc terbaik\n",
        "best_erpc = None\n",
        "best_sdpc = None\n",
        "best_index = None"
      ]
    },
    {
      "cell_type": "code",
      "execution_count": 32,
      "metadata": {
        "id": "VJKSdOK9JacG"
      },
      "outputs": [],
      "source": [
        "#c untuk perulangan\n",
        "c_values = (0, 0.01, 0.02)"
      ]
    },
    {
      "cell_type": "code",
      "execution_count": 33,
      "metadata": {
        "id": "Geu0eRtXKWdL"
      },
      "outputs": [],
      "source": [
        "# Perulangan untuk menghitung bobot, expected return, standar deviasi, dan rasio\n",
        "for i, c in enumerate(c_values):\n",
        "  bobot = np.dot(inv_cov_matrix, e) / np.dot(np.dot(e.T,\n",
        "inv_cov_matrix), e) + (c * ((np.dot(inv_cov_matrix, exreturns)) - (((np.dot(np.dot(e.T, inv_cov_matrix), exreturns)) /\n",
        "(np.dot(np.dot(e.T, inv_cov_matrix), e))) *\n",
        "(np.dot(inv_cov_matrix, e)))))"
      ]
    },
    {
      "cell_type": "code",
      "execution_count": 34,
      "metadata": {
        "colab": {
          "base_uri": "https://localhost:8080/"
        },
        "id": "EzWh1dV1LiDr",
        "outputId": "3df1f461-e649-4560-faa4-7f302a9e375e"
      },
      "outputs": [
        {
          "output_type": "stream",
          "name": "stdout",
          "text": [
            "Bobot C 0 Mean-Variance Portfolio: [[0.41536119+0.j 0.53056085+0.j 0.05407796+0.j]]\n",
            "Expected Return Portfolio Compleks 0 = [[0.00701146+0.j]]\n",
            "Risiko Portfolio Compleks 0 = [[0.00047899+0.j]]\n",
            "Rasio Bobot 0 = [[14.6381496+0.j]]\n",
            "\n",
            "Bobot C 1 Mean-Variance Portfolio: [[0.41536119+0.j 0.53056085+0.j 0.05407796+0.j]]\n",
            "Expected Return Portfolio Compleks 1 = [[0.00701146+0.j]]\n",
            "Risiko Portfolio Compleks 1 = [[0.00047899+0.j]]\n",
            "Rasio Bobot 1 = [[14.6381496+0.j]]\n",
            "\n",
            "Bobot C 2 Mean-Variance Portfolio: [[0.41536119+0.j 0.53056085+0.j 0.05407796+0.j]]\n",
            "Expected Return Portfolio Compleks 2 = [[0.00701146+0.j]]\n",
            "Risiko Portfolio Compleks 2 = [[0.00047899+0.j]]\n",
            "Rasio Bobot 2 = [[14.6381496+0.j]]\n",
            "\n",
            "Bobot C 3 Mean-Variance Portfolio: [[0.41536119+0.j 0.53056085+0.j 0.05407796+0.j]]\n",
            "Expected Return Portfolio Compleks 3 = [[0.00701146+0.j]]\n",
            "Risiko Portfolio Compleks 3 = [[0.00047899+0.j]]\n",
            "Rasio Bobot 3 = [[14.6381496+0.j]]\n",
            "\n",
            "Bobot C 4 Mean-Variance Portfolio: [[0.41536119+0.j 0.53056085+0.j 0.05407796+0.j]]\n",
            "Expected Return Portfolio Compleks 4 = [[0.00701146+0.j]]\n",
            "Risiko Portfolio Compleks 4 = [[0.00047899+0.j]]\n",
            "Rasio Bobot 4 = [[14.6381496+0.j]]\n",
            "\n",
            "Bobot terbaik adalah [[0.41536119+0.j 0.53056085+0.j 0.05407796+0.j]]\n",
            "Expected Return Portfolio Terbaik adalah [[0.00701146+0.j]]\n",
            "Risiko Portfolio Terbaik adalah [[0.00047899+0.j]]\n"
          ]
        }
      ],
      "source": [
        "# Inisialisasi list untuk menyimpan hasil\n",
        "bobot_list = []\n",
        "erpc_list = []\n",
        "sdpc_list = []\n",
        "rc_list = []\n",
        "\n",
        "# Iterasi (contoh dengan range 5)\n",
        "for i in range(5):\n",
        "    # hitung bobot dsb (ini anggap bobot sudah ada dari proses optimasi)\n",
        "\n",
        "    if np.any(bobot < 0):\n",
        "        print(\"Bobot negatif ditemukan. Iterasi dihentikan.\")\n",
        "        break\n",
        "\n",
        "    bobot_list.append(bobot)\n",
        "\n",
        "    erpc = np.dot(bobot, exreturns.T)\n",
        "    erpc_list.append(erpc)\n",
        "\n",
        "    sdpc = np.dot(np.dot(bobot, cov_matrix), bobot.T)\n",
        "    sdpc_list.append(sdpc)\n",
        "\n",
        "    rc = erpc / sdpc\n",
        "    rc_list.append(rc)\n",
        "\n",
        "    if best_erpc is None or erpc > best_erpc:\n",
        "        best_erpc = erpc\n",
        "        best_sdpc = sdpc\n",
        "        best_index = i\n",
        "\n",
        "    print(f\"Bobot C {i} Mean-Variance Portfolio:\", bobot)\n",
        "    print(f\"Expected Return Portfolio Compleks {i} =\", erpc)\n",
        "    print(f\"Risiko Portfolio Compleks {i} =\", sdpc)\n",
        "    print(f\"Rasio Bobot {i} =\", rc)\n",
        "    print()\n",
        "\n",
        "# Mencari bobot terbaik\n",
        "if best_index is not None:\n",
        "    best_bobot = bobot_list[best_index]\n",
        "    print(\"Bobot terbaik adalah\", best_bobot)\n",
        "\n",
        "if best_erpc is not None and best_sdpc is not None:\n",
        "    print(\"Expected Return Portfolio Terbaik adalah\", best_erpc)\n",
        "    print(\"Risiko Portfolio Terbaik adalah\", best_sdpc)\n"
      ]
    },
    {
      "cell_type": "code",
      "source": [
        "import numpy as np\n",
        "import pandas as pd\n",
        "\n",
        "# Bobot portofolio\n",
        "bobot = np.array(best_bobot).flatten()\n",
        "portfolio_returns = data[[\"Saham\", \"Obligasi\", \"Reksadana\"]].dot(bobot)\n",
        "\n",
        "# Expected return (mean bulanan)\n",
        "expected_return = portfolio_returns.mean()\n",
        "\n",
        "#Variance\n",
        "variance = portfolio_returns.var()\n",
        "\n",
        "#Risk Free Rate (annual ke monthly)\n",
        "rf_annual = 0.0625   # 6.25% per tahun\n",
        "rf_monthly = (1 + rf_annual)**(1/12) - 1\n",
        "\n",
        "# Sharpe Ratio\n",
        "sharpe_ratio = (expected_return - rf_monthly) / portfolio_returns.std()\n",
        "\n",
        "# Omega Ratio\n",
        "threshold = rf_monthly   # pakai RFR bulanan sebagai threshold\n",
        "gain = portfolio_returns[portfolio_returns > threshold] - threshold\n",
        "loss = threshold - portfolio_returns[portfolio_returns < threshold]\n",
        "omega_ratio = gain.sum() / loss.sum()\n",
        "\n",
        "# Summary Tabel\n",
        "summary = pd.DataFrame({\n",
        "    \"Expected Return (monthly)\": [expected_return],\n",
        "    \"Variance\": [variance],\n",
        "    \"Sharpe Ratio\": [sharpe_ratio],\n",
        "    \"Omega Ratio\": [omega_ratio]\n",
        "})\n",
        "\n",
        "\n",
        "summary = summary.style.format({\n",
        "    \"Expected Return (monthly)\": \"{:.4f}\",\n",
        "    \"Variance\": \"{:.6f}\",\n",
        "    \"Sharpe Ratio\": \"{:.4f}\",\n",
        "    \"Omega Ratio\": \"{:.4f}\"\n",
        "})\n",
        "\n",
        "summary\n"
      ],
      "metadata": {
        "colab": {
          "base_uri": "https://localhost:8080/",
          "height": 81
        },
        "id": "YWshGpH17Pvi",
        "outputId": "5bebdb27-1679-4ebb-b521-e5946a998db5"
      },
      "execution_count": 36,
      "outputs": [
        {
          "output_type": "execute_result",
          "data": {
            "text/plain": [
              "<pandas.io.formats.style.Styler at 0x78a3c4b66240>"
            ],
            "text/html": [
              "<style type=\"text/css\">\n",
              "</style>\n",
              "<table id=\"T_4b1fa\" class=\"dataframe\">\n",
              "  <thead>\n",
              "    <tr>\n",
              "      <th class=\"blank level0\" >&nbsp;</th>\n",
              "      <th id=\"T_4b1fa_level0_col0\" class=\"col_heading level0 col0\" >Expected Return (monthly)</th>\n",
              "      <th id=\"T_4b1fa_level0_col1\" class=\"col_heading level0 col1\" >Variance</th>\n",
              "      <th id=\"T_4b1fa_level0_col2\" class=\"col_heading level0 col2\" >Sharpe Ratio</th>\n",
              "      <th id=\"T_4b1fa_level0_col3\" class=\"col_heading level0 col3\" >Omega Ratio</th>\n",
              "    </tr>\n",
              "  </thead>\n",
              "  <tbody>\n",
              "    <tr>\n",
              "      <th id=\"T_4b1fa_level0_row0\" class=\"row_heading level0 row0\" >0</th>\n",
              "      <td id=\"T_4b1fa_row0_col0\" class=\"data row0 col0\" >0.0070+0.0000j</td>\n",
              "      <td id=\"T_4b1fa_row0_col1\" class=\"data row0 col1\" >0.000487</td>\n",
              "      <td id=\"T_4b1fa_row0_col2\" class=\"data row0 col2\" >0.0882+0.0000j</td>\n",
              "      <td id=\"T_4b1fa_row0_col3\" class=\"data row0 col3\" >1.2536+0.0000j</td>\n",
              "    </tr>\n",
              "  </tbody>\n",
              "</table>\n"
            ]
          },
          "metadata": {},
          "execution_count": 36
        }
      ]
    }
  ],
  "metadata": {
    "colab": {
      "provenance": [],
      "authorship_tag": "ABX9TyPwCfL4NSrLesgtxZUvMr9Q",
      "include_colab_link": true
    },
    "kernelspec": {
      "display_name": "Python 3",
      "name": "python3"
    },
    "language_info": {
      "name": "python"
    }
  },
  "nbformat": 4,
  "nbformat_minor": 0
}